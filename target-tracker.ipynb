{
 "metadata": {
  "kernelspec": {
   "language": "python",
   "display_name": "Python 3",
   "name": "python3"
  },
  "language_info": {
   "name": "python",
   "version": "3.11.11",
   "mimetype": "text/x-python",
   "codemirror_mode": {
    "name": "ipython",
    "version": 3
   },
   "pygments_lexer": "ipython3",
   "nbconvert_exporter": "python",
   "file_extension": ".py"
  },
  "kaggle": {
   "accelerator": "none",
   "dataSources": [],
   "dockerImageVersionId": 31040,
   "isInternetEnabled": true,
   "language": "python",
   "sourceType": "notebook",
   "isGpuEnabled": false
  }
 },
 "nbformat_minor": 4,
 "nbformat": 4,
 "cells": [
  {
   "cell_type": "code",
   "source": [
    "# This Python 3 environment comes with many helpful analytics libraries installed\n",
    "# It is defined by the kaggle/python Docker image: https://github.com/kaggle/docker-python\n",
    "# For example, here's several helpful packages to load\n",
    "\n",
    "import numpy as np # linear algebra\n",
    "import pandas as pd # data processing, CSV file I/O (e.g. pd.read_csv)\n",
    "\n",
    "# Input data files are available in the read-only \"../input/\" directory\n",
    "# For example, running this (by clicking run or pressing Shift+Enter) will list all files under the input directory\n",
    "\n",
    "import os\n",
    "for dirname, _, filenames in os.walk('/kaggle/input'):\n",
    "    for filename in filenames:\n",
    "        print(os.path.join(dirname, filename))\n",
    "\n",
    "# You can write up to 20GB to the current directory (/kaggle/working/) that gets preserved as output when you create a version using \"Save & Run All\" \n",
    "# You can also write temporary files to /kaggle/temp/, but they won't be saved outside of the current session"
   ],
   "metadata": {
    "_uuid": "8f2839f25d086af736a60e9eeb907d3b93b6e0e5",
    "_cell_guid": "b1076dfc-b9ad-4769-8c92-a6c4dae69d19",
    "trusted": true,
    "execution": {
     "iopub.status.busy": "2025-06-12T21:48:19.030027Z",
     "iopub.execute_input": "2025-06-12T21:48:19.030380Z",
     "iopub.status.idle": "2025-06-12T21:48:19.037033Z",
     "shell.execute_reply.started": "2025-06-12T21:48:19.030357Z",
     "shell.execute_reply": "2025-06-12T21:48:19.035880Z"
    }
   },
   "outputs": [],
   "execution_count": 29
  },
  {
   "cell_type": "code",
   "source": [
    "pip install numpy simplekml"
   ],
   "metadata": {
    "trusted": true,
    "execution": {
     "iopub.status.busy": "2025-06-12T21:48:19.039814Z",
     "iopub.execute_input": "2025-06-12T21:48:19.040294Z",
     "iopub.status.idle": "2025-06-12T21:48:22.883679Z",
     "shell.execute_reply.started": "2025-06-12T21:48:19.040260Z",
     "shell.execute_reply": "2025-06-12T21:48:22.882436Z"
    }
   },
   "outputs": [
    {
     "name": "stdout",
     "text": "Requirement already satisfied: numpy in /usr/local/lib/python3.11/dist-packages (1.26.4)\nRequirement already satisfied: simplekml in /usr/local/lib/python3.11/dist-packages (1.3.6)\nRequirement already satisfied: mkl_fft in /usr/local/lib/python3.11/dist-packages (from numpy) (1.3.8)\nRequirement already satisfied: mkl_random in /usr/local/lib/python3.11/dist-packages (from numpy) (1.2.4)\nRequirement already satisfied: mkl_umath in /usr/local/lib/python3.11/dist-packages (from numpy) (0.1.1)\nRequirement already satisfied: mkl in /usr/local/lib/python3.11/dist-packages (from numpy) (2025.1.0)\nRequirement already satisfied: tbb4py in /usr/local/lib/python3.11/dist-packages (from numpy) (2022.1.0)\nRequirement already satisfied: mkl-service in /usr/local/lib/python3.11/dist-packages (from numpy) (2.4.1)\nRequirement already satisfied: intel-openmp<2026,>=2024 in /usr/local/lib/python3.11/dist-packages (from mkl->numpy) (2024.2.0)\nRequirement already satisfied: tbb==2022.* in /usr/local/lib/python3.11/dist-packages (from mkl->numpy) (2022.1.0)\nRequirement already satisfied: tcmlib==1.* in /usr/local/lib/python3.11/dist-packages (from tbb==2022.*->mkl->numpy) (1.3.0)\nRequirement already satisfied: intel-cmplr-lib-rt in /usr/local/lib/python3.11/dist-packages (from mkl_umath->numpy) (2024.2.0)\nRequirement already satisfied: intel-cmplr-lib-ur==2024.2.0 in /usr/local/lib/python3.11/dist-packages (from intel-openmp<2026,>=2024->mkl->numpy) (2024.2.0)\nNote: you may need to restart the kernel to use updated packages.\n",
     "output_type": "stream"
    }
   ],
   "execution_count": 30
  },
  {
   "cell_type": "code",
   "source": [
    "import argparse\n",
    "from datetime import datetime, timedelta, timezone\n",
    "import numpy as np\n",
    "import simplekml\n",
    "from math import radians, sin, degrees, cos, atan2, sqrt\n",
    "import random"
   ],
   "metadata": {
    "trusted": true,
    "execution": {
     "iopub.status.busy": "2025-06-12T21:48:22.886009Z",
     "iopub.execute_input": "2025-06-12T21:48:22.886321Z",
     "iopub.status.idle": "2025-06-12T21:48:22.891882Z",
     "shell.execute_reply.started": "2025-06-12T21:48:22.886285Z",
     "shell.execute_reply": "2025-06-12T21:48:22.891091Z"
    }
   },
   "outputs": [],
   "execution_count": 31
  },
  {
   "cell_type": "code",
   "source": [
    "# constants\n",
    "R_EARTH = 6378.137  # km (earth radius)\n",
    "MU = 3.986004418e5  # km³/s², Earth's GM"
   ],
   "metadata": {
    "trusted": true,
    "execution": {
     "iopub.status.busy": "2025-06-12T21:48:22.892780Z",
     "iopub.execute_input": "2025-06-12T21:48:22.893075Z",
     "iopub.status.idle": "2025-06-12T21:48:22.912795Z",
     "shell.execute_reply.started": "2025-06-12T21:48:22.893054Z",
     "shell.execute_reply": "2025-06-12T21:48:22.911787Z"
    }
   },
   "outputs": [],
   "execution_count": 32
  },
  {
   "cell_type": "code",
   "source": [
    "# haversine distance (km)\n",
    "\"\"\"\n",
    "Computes the great‐circle distance between two latitude/longitude points on a (spherical) Earth. \n",
    "Based on haversine formula\n",
    "\"\"\"\n",
    "def gc_distance(lat1, lon1, lat2, lon2):\n",
    "    R = 6371.0\n",
    "    fi1, fi2, dg = map(radians, (lat1, lat2, lon2 - lon1))\n",
    "    a = sin((fi2 - fi1) / 2) ** 2 + cos(fi1) * cos(fi2) * sin(dg / 2) ** 2\n",
    "    return 2 * R * atan2(sqrt(a), sqrt(1 - a))"
   ],
   "metadata": {
    "trusted": true,
    "execution": {
     "iopub.status.busy": "2025-06-12T21:48:22.915292Z",
     "iopub.execute_input": "2025-06-12T21:48:22.915581Z",
     "iopub.status.idle": "2025-06-12T21:48:22.935511Z",
     "shell.execute_reply.started": "2025-06-12T21:48:22.915561Z",
     "shell.execute_reply": "2025-06-12T21:48:22.934687Z"
    }
   },
   "outputs": [],
   "execution_count": 33
  },
  {
   "cell_type": "code",
   "source": [
    "# bearing from point 1 to point 2 (deg, 0 = North)\n",
    "\"\"\"\n",
    "Computes the initial bearing (azimuth) from the point \n",
    "(lat1,lon1) to the point (lat2,lon2) on a spherical Earth.\n",
    "\"\"\"\n",
    "def bearing(lat1, lon1, lat2, lon2):\n",
    "    fi1, fi2 = np.radians([lat1, lat2])\n",
    "    dg = np.radians(lon2 - lon1)\n",
    "    x = np.sin(dg) * np.cos(fi2)\n",
    "    y = np.cos(fi1) * np.sin(fi2) - np.sin(fi1) * np.cos(fi2) * np.cos(dg)\n",
    "    brng = np.degrees(np.arctan2(x, y))\n",
    "    return (brng + 360) % 360  # wrap into 0‥360"
   ],
   "metadata": {
    "trusted": true,
    "execution": {
     "iopub.status.busy": "2025-06-12T21:48:22.936547Z",
     "iopub.execute_input": "2025-06-12T21:48:22.936849Z",
     "iopub.status.idle": "2025-06-12T21:48:22.958652Z",
     "shell.execute_reply.started": "2025-06-12T21:48:22.936824Z",
     "shell.execute_reply": "2025-06-12T21:48:22.957585Z"
    }
   },
   "outputs": [],
   "execution_count": 34
  },
  {
   "cell_type": "code",
   "source": [
    "\"\"\"\n",
    "circular‐orbit → ground track converter.\n",
    "approximates where the satellite would be directly overhead on Earth’s surface at that point in its orbit\n",
    "\"\"\"\n",
    "def eci_to_llh(θ):\n",
    "    lat = np.arcsin(np.sin(inc_rad) * np.sin(θ))\n",
    "    # Convert θ→degrees and wrap into [–180, +180]:\n",
    "    lon_deg = (np.rad2deg(θ) + 180) % 360 - 180\n",
    "    return np.rad2deg(lat), lon_deg"
   ],
   "metadata": {
    "trusted": true,
    "execution": {
     "iopub.status.busy": "2025-06-12T21:48:22.959766Z",
     "iopub.execute_input": "2025-06-12T21:48:22.960059Z",
     "iopub.status.idle": "2025-06-12T21:48:22.984958Z",
     "shell.execute_reply.started": "2025-06-12T21:48:22.960038Z",
     "shell.execute_reply": "2025-06-12T21:48:22.984051Z"
    }
   },
   "outputs": [],
   "execution_count": 35
  },
  {
   "cell_type": "code",
   "source": [
    "\"\"\"\n",
    "Return lat,lon reached by starting at (lat,lon) and going\n",
    "'bearing_deg' for 'dist_km' km on a sphere.\n",
    "\"\"\"\n",
    "def gc_destination(lat, lon, bearing_deg, dist_km):\n",
    "    R = 6371.0\n",
    "    fi1, g1, ang_displacement = map(radians, (lat, lon, bearing_deg))\n",
    "    d = dist_km / R\n",
    "    fi2 = sin(fi1) * cos(d) + cos(fi1) * sin(d) * cos(ang_displacement)\n",
    "    fi2 = atan2(fi2, sqrt(1 - fi2 ** 2))  # lat\n",
    "    g2 = g1 + atan2(sin(ang_displacement) * sin(d) * cos(fi1),\n",
    "                    cos(d) - sin(fi1) * sin(fi2))  # lon\n",
    "    return degrees(fi2), (degrees(g2) + 540) % 360 - 180"
   ],
   "metadata": {
    "trusted": true,
    "execution": {
     "iopub.status.busy": "2025-06-12T21:48:22.986165Z",
     "iopub.execute_input": "2025-06-12T21:48:22.986481Z",
     "iopub.status.idle": "2025-06-12T21:48:23.004735Z",
     "shell.execute_reply.started": "2025-06-12T21:48:22.986455Z",
     "shell.execute_reply": "2025-06-12T21:48:23.003703Z"
    }
   },
   "outputs": [],
   "execution_count": 36
  },
  {
   "cell_type": "code",
   "source": [
    "def generate_evenly_spaced_targets(track_latlon, n_points = 8,\n",
    "                                   lateral_km = 0):\n",
    "    \"\"\"\n",
    "    Pick n_points along the given track_latlon so that each target\n",
    "    lies roughly 'total_track_length / n_points' km apart.\n",
    "\n",
    "    1. Compute the cumulative distance along track_latlon (in km).\n",
    "    2. Let spacing = (total_length / n_points).\n",
    "    3. Select the first sample whose cumulative_dist >= k * spacing, for k = 1..n_points.\n",
    "    4. (Optionally) offset each selected point laterally by up to lateral_km in a random direction.\n",
    "       If lateral_km == 0, no offset is applied and the target lies exactly on the computed ground track.\n",
    "\n",
    "    Returns a list of (lat, lon) for each of the n_points targets.\n",
    "    \"\"\"\n",
    "\n",
    "    # build a list of cumulative distances along track_latlon\n",
    "    cumdist = [0.0]\n",
    "    for i in range(1, len(track_latlon)):\n",
    "        latA, lonA = track_latlon[i-1]\n",
    "        latB, lonB = track_latlon[i]\n",
    "        d = gc_distance(latA, lonA, latB, lonB)\n",
    "        cumdist.append(cumdist[-1] + d)\n",
    "\n",
    "    total_length = cumdist[-1]\n",
    "    if total_length <= 0:\n",
    "        raise ValueError(\"Track is too short (zero total length).\")\n",
    "\n",
    "    # compute how far apart each target should be\n",
    "    spacing_km = total_length / n_points\n",
    "\n",
    "    out = []\n",
    "    next_threshold = spacing_km\n",
    "    idx = 0\n",
    "\n",
    "    # for each of the n_points, find the appropriate index\n",
    "    for _ in range(n_points):\n",
    "        while idx < len(cumdist) and cumdist[idx] < next_threshold:\n",
    "            idx += 1\n",
    "\n",
    "        # If we ran off the end, clamp to the last sample\n",
    "        if idx >= len(cumdist):\n",
    "            idx = len(cumdist) - 1\n",
    "\n",
    "        base_lat, base_lon = track_latlon[idx]\n",
    "\n",
    "        if lateral_km > 0:\n",
    "            # if lateral_km > 0, randomly offset that base point by up to lateral_km\n",
    "            bearing_rand = random.uniform(0, 360)\n",
    "            tgt_lat, tgt_lon = gc_destination(base_lat, base_lon, bearing_rand, lateral_km)\n",
    "        else:\n",
    "            # no offset: target is exactly on the ground track\n",
    "            tgt_lat, tgt_lon = base_lat, base_lon\n",
    "\n",
    "        out.append((tgt_lat, tgt_lon))\n",
    "\n",
    "        # increase the threshold for the next target\n",
    "        next_threshold += spacing_km\n",
    "\n",
    "    return out"
   ],
   "metadata": {
    "trusted": true,
    "execution": {
     "iopub.status.busy": "2025-06-12T21:48:23.005786Z",
     "iopub.execute_input": "2025-06-12T21:48:23.006333Z",
     "iopub.status.idle": "2025-06-12T21:48:23.027810Z",
     "shell.execute_reply.started": "2025-06-12T21:48:23.006303Z",
     "shell.execute_reply": "2025-06-12T21:48:23.026980Z"
    }
   },
   "outputs": [],
   "execution_count": 37
  },
  {
   "cell_type": "code",
   "source": [
    "import sys\n",
    "import math\n",
    "from datetime import datetime, timedelta, timezone\n",
    "from xml.etree import ElementTree as ET\n",
    "import xml.etree.ElementTree as ET"
   ],
   "metadata": {
    "trusted": true,
    "execution": {
     "iopub.status.busy": "2025-06-12T21:48:23.028935Z",
     "iopub.execute_input": "2025-06-12T21:48:23.029241Z",
     "iopub.status.idle": "2025-06-12T21:48:23.053857Z",
     "shell.execute_reply.started": "2025-06-12T21:48:23.029215Z",
     "shell.execute_reply": "2025-06-12T21:48:23.053053Z"
    }
   },
   "outputs": [],
   "execution_count": 38
  },
  {
   "cell_type": "code",
   "source": [
    "def create_circle_coords(lat_c, lon_c, radius_km, n_pts=36):\n",
    "    pts=[]\n",
    "    for b in np.linspace(0,360,n_pts,endpoint=False):\n",
    "        lati,loni = gc_destination(lat_c, lon_c, b, radius_km)\n",
    "        pts.append((loni, lati, 0))\n",
    "    pts.append(pts[0])\n",
    "    return pts"
   ],
   "metadata": {
    "trusted": true,
    "execution": {
     "iopub.status.busy": "2025-06-12T21:48:23.056641Z",
     "iopub.execute_input": "2025-06-12T21:48:23.057005Z",
     "iopub.status.idle": "2025-06-12T21:48:23.072631Z",
     "shell.execute_reply.started": "2025-06-12T21:48:23.056983Z",
     "shell.execute_reply": "2025-06-12T21:48:23.071727Z"
    }
   },
   "outputs": [],
   "execution_count": 39
  },
  {
   "cell_type": "code",
   "source": [
    "# ---------------------- argument parsing ---------------------\n",
    "parser = argparse.ArgumentParser(description=\"Create animated satellite track KML.\")\n",
    "parser.add_argument(\"--alt\", type=float, default=250, help=\"Altitude above mean sea level in km\")\n",
    "parser.add_argument(\"--inc\", type=float, default=0, help=\"Orbital inclination in degrees\")\n",
    "parser.add_argument(\"--period\", type=float, default=None, help=\"Orbital period in seconds \"\n",
    "                                                               \"(leave blank for Keplerian)\")\n",
    "parser.add_argument(\"--step\", type=float, default=10, help=\"Time step in seconds\")\n",
    "parser.add_argument(\"--hours\", type=float, default=2, help=\"Total simulated hours\")\n",
    "if 'ipykernel' in sys.modules:\n",
    "    args = parser.parse_args(args=['--alt', '300', '--inc', '53', '--hours', '1.7'])\n",
    "else:\n",
    "    args = parser.parse_args()"
   ],
   "metadata": {
    "trusted": true,
    "execution": {
     "iopub.status.busy": "2025-06-12T21:48:23.073567Z",
     "iopub.execute_input": "2025-06-12T21:48:23.073873Z",
     "iopub.status.idle": "2025-06-12T21:48:23.099922Z",
     "shell.execute_reply.started": "2025-06-12T21:48:23.073845Z",
     "shell.execute_reply": "2025-06-12T21:48:23.098984Z"
    }
   },
   "outputs": [],
   "execution_count": 40
  },
  {
   "cell_type": "code",
   "source": [
    "h = args.alt\n",
    "r = R_EARTH + h\n",
    "inc_rad = np.deg2rad(args.inc)\n",
    "scale_factor = 0.2\n",
    "min_radius   = 50\n",
    "\n",
    "if args.period is None:\n",
    "    args.period   = 2 * math.pi * math.sqrt(r**3 / MU)\n",
    "ang_vel = 2 * math.pi / args.period\n",
    "\n",
    "ang_velocity = 2 * np.pi / args.period  # angular velocity of the satellite (radians per sec)"
   ],
   "metadata": {
    "trusted": true,
    "execution": {
     "iopub.status.busy": "2025-06-12T21:48:23.100936Z",
     "iopub.execute_input": "2025-06-12T21:48:23.101757Z",
     "iopub.status.idle": "2025-06-12T21:48:23.118656Z",
     "shell.execute_reply.started": "2025-06-12T21:48:23.101729Z",
     "shell.execute_reply": "2025-06-12T21:48:23.117959Z"
    }
   },
   "outputs": [],
   "execution_count": 41
  },
  {
   "cell_type": "code",
   "source": [
    "start_utc = datetime.now(timezone.utc)\n",
    "t_span    = np.arange(0, args.hours*3600 + args.step, args.step)\n",
    "\n",
    "# 1.1 – Track\n",
    "kml = simplekml.Kml()\n",
    "track = kml.newgxtrack(name=f\"Satellite @ {h}km, inc {args.inc}°\")\n",
    "when_list, coord_list = [], []\n",
    "for t in t_span:\n",
    "    θ = ang_vel * t\n",
    "    lat, lon = eci_to_llh(θ)\n",
    "    when_list.append((start_utc + timedelta(seconds=float(t))).isoformat())\n",
    "    coord_list.append((lon, lat, h*1000))\n",
    "track.newwhen(when_list)\n",
    "track.newgxcoord(coord_list)\n",
    "track.altitudemode = simplekml.AltitudeMode.absolute\n",
    "track.style.iconstyle.icon.href = \"http://maps.google.com/mapfiles/kml/shapes/satellite.png\"\n",
    "\n",
    "tour = kml.newgxtour(name=\"Orbit fly-along\")\n",
    "playlist = tour.newgxplaylist()\n",
    "\n",
    "# 1.2 – Targets\n",
    "track_samples = [eci_to_llh(ang_vel*t) for t in t_span]\n",
    "targets       = generate_evenly_spaced_targets(track_samples, n_points=8, lateral_km=0)\n",
    "targets_named = [(lat, lon, f\"Target #{i+1}\") for i,(lat,lon) in enumerate(targets)]\n",
    "\n",
    "target_pm_strs = []\n",
    "for lat, lon, name in targets_named:\n",
    "    pm = kml.newpoint(name=name, coords=[(lon, lat)])\n",
    "    pm.style.iconstyle.color = simplekml.Color.yellow\n",
    "    pm.style.iconstyle.scale = 0.8\n",
    "    \n",
    "    target_pm_strs.append(f\"\"\"\n",
    "    <Placemark>\n",
    "      <name>{name}</name>\n",
    "      <Point><coordinates>{lon},{lat},0</coordinates></Point>\n",
    "    </Placemark>\"\"\")\n",
    "\n",
    "# 2.2 – circlePlacemark\n",
    "tgt_lat, tgt_lon, _ = targets_named[0]\n",
    "init_dist = gc_distance(*eci_to_llh(0), tgt_lat, tgt_lon)\n",
    "radius0   = init_dist * scale_factor\n",
    "coords0   = create_circle_coords(tgt_lat, tgt_lon, radius0)\n",
    "\n",
    "circle_kml = f\"\"\"\n",
    "    <Placemark id=\"circlePlacemark\">\n",
    "      <name>Dynamic Circle</name>\n",
    "      <Style>\n",
    "        <LineStyle><color>ff0000ff</color><width>2</width></LineStyle>\n",
    "        <PolyStyle><color>7f0000ff</color></PolyStyle>\n",
    "      </Style>\n",
    "      <Polygon>\n",
    "        <altitudeMode>clampToGround</altitudeMode>\n",
    "        <outerBoundaryIs><LinearRing>\n",
    "          <coordinates>{coords0}</coordinates>\n",
    "        </LinearRing></outerBoundaryIs>\n",
    "      </Polygon>\n",
    "    </Placemark>\"\"\"\n",
    "\n",
    "header = f\"\"\"<?xml version=\"1.0\" encoding=\"UTF-8\"?>\n",
    "<kml xmlns=\"http://www.opengis.net/kml/2.2\"\n",
    "     xmlns:gx=\"http://www.google.com/kml/ext/2.2\">\n",
    "<Document>\n",
    "  <name>Orbit Tour</name>\n",
    "  {''.join(target_pm_strs)}\n",
    "  {circle_kml}\n",
    "  <gx:Tour>\n",
    "    <name>Orbit fly-along</name>\n",
    "    <gx:Playlist>\"\"\"\n",
    "\n",
    "footer = \"\"\"\n",
    "    </gx:Playlist>\n",
    "  </gx:Tour>\n",
    "</Document>\n",
    "</kml>\"\"\"\n",
    "\n",
    "body = []\n",
    "step_cam = 5\n",
    "idx_step = int(step_cam/args.step)\n",
    "range_km = 650\n",
    "\n",
    "camera_mode = \"CRUISE\"\n",
    "last_heading = 0\n",
    "last_tilt = 15\n",
    "active_target = None\n",
    "\n",
    "for i in range(len(t_span)):\n",
    "    θ_now = ang_vel * t_span[i]\n",
    "    sat_lat, sat_lon = eci_to_llh(θ_now)\n",
    "\n",
    "    # find the closest target\n",
    "    dists = [(idx, gc_distance(sat_lat, sat_lon, lt, ln), lt, ln)\n",
    "             for idx, (lt, ln, _) in enumerate(targets_named)]\n",
    "    idx_min, min_dist, tgt_lat, tgt_lon = min(dists, key=lambda x: x[1])\n",
    "\n",
    "    # range check \n",
    "    if min_dist <= range_km:\n",
    "        # entered to the trigger zone of some target\n",
    "        if active_target != idx_min:\n",
    "            # entered to the trigger radius of a new target\n",
    "            active_target = idx_min\n",
    "            camera_mode = \"ON_TARGET\"\n",
    "            hdg = bearing(sat_lat, sat_lon, tgt_lat, tgt_lon)\n",
    "            tilt = math.degrees(math.atan2(min_dist, h))\n",
    "            last_heading = hdg\n",
    "            last_tilt = tilt\n",
    "        else:\n",
    "            # still with the same target, keep following\n",
    "            hdg = bearing(sat_lat, sat_lon, tgt_lat, tgt_lon)\n",
    "            tilt = math.degrees(math.atan2(min_dist, h))\n",
    "            last_heading = hdg\n",
    "            last_tilt = tilt\n",
    "    else:\n",
    "        # no target in range\n",
    "        if camera_mode == \"ON_TARGET\":\n",
    "            # exits range and goes into mode OFF\n",
    "            camera_mode = \"OFF\"\n",
    "            active_target = None\n",
    "        hdg = last_heading\n",
    "        tilt = last_tilt\n",
    "\n",
    "    body.append(f\"\"\"\n",
    "      <gx:FlyTo>\n",
    "        <gx:duration>{step_cam}</gx:duration>\n",
    "        <gx:flyToMode>smooth</gx:flyToMode>\n",
    "        <LookAt>\n",
    "          <longitude>{sat_lon}</longitude>\n",
    "          <latitude>{sat_lat}</latitude>\n",
    "          <altitude>{h*1000}</altitude>\n",
    "          <heading>{hdg:.1f}</heading>\n",
    "          <tilt>{tilt:.1f}</tilt>\n",
    "          <range>{h*1000}</range>\n",
    "          <altitudeMode>absolute</altitudeMode>\n",
    "        </LookAt>\n",
    "      </gx:FlyTo>\"\"\")\n",
    "\n",
    "    radius = min_dist * scale_factor\n",
    "    radius = max(radius, min_radius)\n",
    "    new_coords = create_circle_coords(tgt_lat, tgt_lon, radius)\n",
    "    coords_str  = \" \".join(f\"{lo},{la},0\" for lo,la,_ in new_coords)\n",
    "    body.append(f\"\"\"\n",
    "      <gx:AnimatedUpdate>\n",
    "        <gx:duration>{step_cam}</gx:duration>\n",
    "        <Update><Change>\n",
    "          <Placemark targetId=\"circlePlacemark\">\n",
    "            <Polygon>\n",
    "              <outerBoundaryIs><LinearRing>\n",
    "                <coordinates>{coords_str}</coordinates>\n",
    "              </LinearRing></outerBoundaryIs>\n",
    "            </Polygon>\n",
    "          </Placemark>\n",
    "        </Change></Update>\n",
    "      </gx:AnimatedUpdate>\"\"\")\n",
    "\n",
    "\n",
    "\n",
    "full_kml = header + \"\\n\".join(body) + footer\n",
    "with open(f\"orbit_with_dynamic_circle_13{h:.0f}km_{args.inc:.0f}deg.kml\",\"w\",encoding=\"utf-8\") as f:\n",
    "    f.write(full_kml)\n",
    "\n",
    "print(\"Saved KML with a single shrinking circle around the target.\")"
   ],
   "metadata": {
    "trusted": true,
    "execution": {
     "iopub.status.busy": "2025-06-12T22:53:55.757701Z",
     "iopub.execute_input": "2025-06-12T22:53:55.758045Z",
     "iopub.status.idle": "2025-06-12T22:53:55.913428Z",
     "shell.execute_reply.started": "2025-06-12T22:53:55.758023Z",
     "shell.execute_reply": "2025-06-12T22:53:55.912633Z"
    }
   },
   "outputs": [
    {
     "name": "stdout",
     "text": "Saved KML with a single shrinking circle around the target.\n",
     "output_type": "stream"
    }
   ],
   "execution_count": 48
  }
 ]
}
